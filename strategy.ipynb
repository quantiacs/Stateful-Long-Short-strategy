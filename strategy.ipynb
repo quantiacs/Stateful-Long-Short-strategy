{
 "cells": [
  {
   "cell_type": "markdown",
   "metadata": {},
   "source": [
    "# Stateful Long-Short strategy "
   ]
  },
  {
   "cell_type": "code",
   "execution_count": 4,
   "metadata": {},
   "outputs": [],
   "source": [
    "# Import necessary libraries.\n",
    "import xarray as xr\n",
    "import pandas as pd\n",
    "import numpy as np\n",
    "import datetime\n",
    "import os \n",
    "import pickle\n",
    "import qnt.data    as qndata  \n",
    "import qnt.output as qnout   \n",
    "import qnt.backtester as qnbt \n",
    "import qnt.stats   as qnstats \n",
    "import qnt.graph   as qngraph \n",
    "import qnt.ta      as qnta   \n",
    "import qnt.xr_talib as xr_talib   \n",
    "import qnt.state as qnstate \n",
    "import qnt.exits as qnte"
   ]
  },
  {
   "cell_type": "markdown",
   "metadata": {},
   "source": [
    "# Strategy Logic\n",
    "\n",
    "- long_signal: Generated when the 51-day EMA is above the 87-day EMA by 1.5*ATR or more.\n",
    "\n",
    "- long_signal_2: Generated when the 14-day SMA of TR divided by close  is below it's  28-day SMA  multiplied by 0.9                              indicating  a period of lower volatility\n",
    "\n",
    "- exit1: Closes the long position when the  close is under the 27-day EMA\n",
    "\n",
    "- short_signal: Generated when the 7-day EMA is below the 82-day EMA by 1.5*ATR or more and close is below 3-day EMA and RSI is                 above 60 \n",
    " \n",
    "We will add all the signals up. In this case the exit1 is made to exit long positions, so we will multiply it with long         signals. These exits are a part of our signal, and we will further filter it with exits that depend on our position.\n",
    "\n",
    "- signal_tp: Generate exit signal from long position when close price move upwards from the entry opening price by 6.35 ATR                  \n",
    "- signal_sl: Generate exit signal from long position when close price move downwards from the entry opening price by 2.9 ATR                \n",
    "- signal_dc: Generate exit signal from long position when 151 bars pass since entering long position\n",
    "\n",
    "- signal_tp_short: Generate exit signal from short position when close price move downwards from the entry opening price by                        0.72 ATR                \n",
    "\n",
    "- signal_sl_short: Generate exit signal from short position when close price move upwards from the entry opening price by                          0.47 ATR  \n",
    "\n",
    "- signal_dc_short: Generate exit signal from short position when 9 bars pass since entering short position\n",
    "\n",
    "\n",
    "#### Position Sizing\n",
    "\n",
    "Positions are sized based on the ATR percentage ```weights = (entry/atr_perc)``` in the code. This is a risk management method that invests more in stable periods of low volatility and less in high volatility periods.\n",
    "\n",
    "\n",
    "The weights are updated by multiplying them with all the exit signals (signal_tp, signal_sl, dsignal_dc, signal_tp_short, signal_sl_short and signal_dc_short ). This effectively exits positions when any exit condition occurs.\n",
    "\n",
    "#### State Management\n",
    "The state is updated with the new weights and written back to ensure persistence across function calls. In this implementation, positions are forwarded every day until an exit is hit. The system will stay in position until an exit happens, after which it looks for  entry signal again.\n",
    "\n",
    "**Note: Exit functions only work properly with the multi-pass backtester due to requiring previous state information. \n",
    "Make sure to apply at least one exit to your long and short signals, to avoid them being held indefinitely.**"
   ]
  },
  {
   "cell_type": "code",
   "execution_count": 6,
   "metadata": {},
   "outputs": [
    {
     "name": "stdout",
     "output_type": "stream",
     "text": [
      "Run last pass...\n",
      "Load data...\n"
     ]
    },
    {
     "name": "stderr",
     "output_type": "stream",
     "text": [
      "100% (39443 of 39443) |##################| Elapsed Time: 0:00:00 Time:  0:00:00\n",
      "100% (4004752 of 4004752) |##############| Elapsed Time: 0:00:00 Time:  0:00:00\n"
     ]
    },
    {
     "name": "stdout",
     "output_type": "stream",
     "text": [
      "fetched chunk 1/1 2s\n",
      "Data loaded 2s\n",
      "Run strategy...\n",
      "State saved.\n",
      "Load data for cleanup...\n"
     ]
    },
    {
     "name": "stderr",
     "output_type": "stream",
     "text": [
      "100% (641412 of 641412) |################| Elapsed Time: 0:00:00 Time:  0:00:00\n"
     ]
    },
    {
     "name": "stdout",
     "output_type": "stream",
     "text": [
      "fetched chunk 1/1 2s\n",
      "Data loaded 2s\n",
      "Output cleaning...\n",
      "fix uniq\n",
      "ffill if the current price is None...\n",
      "Check liquidity...\n",
      "WARNING! Strategy trades non-liquid assets.\n",
      "Fix liquidity...\n",
      "Ok.\n",
      "Check missed dates...\n",
      "Ok.\n",
      "Normalization...\n",
      "Output cleaning is complete.\n",
      "Write result...\n",
      "Write output: /root/fractions.nc.gz\n",
      "State saved.\n",
      "---\n",
      "Run first pass...\n",
      "Load data...\n"
     ]
    },
    {
     "name": "stderr",
     "output_type": "stream",
     "text": [
      "100% (39443 of 39443) |##################| Elapsed Time: 0:00:00 Time:  0:00:00\n",
      "100% (4020692 of 4020692) |##############| Elapsed Time: 0:00:00 Time:  0:00:00\n"
     ]
    },
    {
     "name": "stdout",
     "output_type": "stream",
     "text": [
      "fetched chunk 1/1 2s\n",
      "Data loaded 2s\n",
      "Run strategy...\n",
      "State saved.\n",
      "---\n",
      "Load full data...\n"
     ]
    },
    {
     "name": "stderr",
     "output_type": "stream",
     "text": [
      "100% (39443 of 39443) |##################| Elapsed Time: 0:00:00 Time:  0:00:00\n",
      "100% (13210764 of 13210764) |############| Elapsed Time: 0:00:00 Time:  0:00:00\n"
     ]
    },
    {
     "name": "stdout",
     "output_type": "stream",
     "text": [
      "fetched chunk 1/6 1s\n"
     ]
    },
    {
     "name": "stderr",
     "output_type": "stream",
     "text": [
      "100% (13210764 of 13210764) |############| Elapsed Time: 0:00:00 Time:  0:00:00\n"
     ]
    },
    {
     "name": "stdout",
     "output_type": "stream",
     "text": [
      "fetched chunk 2/6 2s\n"
     ]
    },
    {
     "name": "stderr",
     "output_type": "stream",
     "text": [
      "100% (13210732 of 13210732) |############| Elapsed Time: 0:00:00 Time:  0:00:00\n"
     ]
    },
    {
     "name": "stdout",
     "output_type": "stream",
     "text": [
      "fetched chunk 3/6 3s\n"
     ]
    },
    {
     "name": "stderr",
     "output_type": "stream",
     "text": [
      "100% (13210648 of 13210648) |############| Elapsed Time: 0:00:00 Time:  0:00:00\n"
     ]
    },
    {
     "name": "stdout",
     "output_type": "stream",
     "text": [
      "fetched chunk 4/6 3s\n"
     ]
    },
    {
     "name": "stderr",
     "output_type": "stream",
     "text": [
      "100% (13210648 of 13210648) |############| Elapsed Time: 0:00:00 Time:  0:00:00\n"
     ]
    },
    {
     "name": "stdout",
     "output_type": "stream",
     "text": [
      "fetched chunk 5/6 4s\n"
     ]
    },
    {
     "name": "stderr",
     "output_type": "stream",
     "text": [
      "100% (12268552 of 12268552) |############| Elapsed Time: 0:00:00 Time:  0:00:00\n"
     ]
    },
    {
     "name": "stdout",
     "output_type": "stream",
     "text": [
      "fetched chunk 6/6 5s\n",
      "Data loaded 5s\n",
      "---\n",
      "Run iterations...\n",
      "\n",
      "State saved.\n"
     ]
    },
    {
     "name": "stderr",
     "output_type": "stream",
     "text": [
      "100% (4655 of 4655) |####################| Elapsed Time: 0:07:32 Time:  0:07:32\n"
     ]
    },
    {
     "name": "stdout",
     "output_type": "stream",
     "text": [
      "Merge outputs...\n",
      "Load data for cleanup and analysis...\n"
     ]
    },
    {
     "name": "stderr",
     "output_type": "stream",
     "text": [
      "100% (39443 of 39443) |##################| Elapsed Time: 0:00:00 Time:  0:00:00\n",
      "100% (13001824 of 13001824) |############| Elapsed Time: 0:00:00 Time:  0:00:00\n"
     ]
    },
    {
     "name": "stdout",
     "output_type": "stream",
     "text": [
      "fetched chunk 1/7 1s\n"
     ]
    },
    {
     "name": "stderr",
     "output_type": "stream",
     "text": [
      "100% (13001824 of 13001824) |############| Elapsed Time: 0:00:00 Time:  0:00:00\n"
     ]
    },
    {
     "name": "stdout",
     "output_type": "stream",
     "text": [
      "fetched chunk 2/7 2s\n"
     ]
    },
    {
     "name": "stderr",
     "output_type": "stream",
     "text": [
      "100% (13001792 of 13001792) |############| Elapsed Time: 0:00:00 Time:  0:00:00\n"
     ]
    },
    {
     "name": "stdout",
     "output_type": "stream",
     "text": [
      "fetched chunk 3/7 2s\n"
     ]
    },
    {
     "name": "stderr",
     "output_type": "stream",
     "text": [
      "100% (13001792 of 13001792) |############| Elapsed Time: 0:00:00 Time:  0:00:00\n"
     ]
    },
    {
     "name": "stdout",
     "output_type": "stream",
     "text": [
      "fetched chunk 4/7 3s\n"
     ]
    },
    {
     "name": "stderr",
     "output_type": "stream",
     "text": [
      "100% (13001712 of 13001712) |############| Elapsed Time: 0:00:00 Time:  0:00:00\n"
     ]
    },
    {
     "name": "stdout",
     "output_type": "stream",
     "text": [
      "fetched chunk 5/7 4s\n"
     ]
    },
    {
     "name": "stderr",
     "output_type": "stream",
     "text": [
      "100% (13001792 of 13001792) |############| Elapsed Time: 0:00:00 Time:  0:00:00\n"
     ]
    },
    {
     "name": "stdout",
     "output_type": "stream",
     "text": [
      "fetched chunk 6/7 5s\n"
     ]
    },
    {
     "name": "stderr",
     "output_type": "stream",
     "text": [
      "100% (970232 of 970232) |################| Elapsed Time: 0:00:00 Time:  0:00:00\n"
     ]
    },
    {
     "name": "stdout",
     "output_type": "stream",
     "text": [
      "fetched chunk 7/7 5s\n",
      "Data loaded 5s\n",
      "Output cleaning...\n",
      "fix uniq\n",
      "ffill if the current price is None...\n",
      "Check liquidity...\n",
      "WARNING! Strategy trades non-liquid assets.\n",
      "Fix liquidity...\n",
      "Ok.\n",
      "Check missed dates...\n",
      "Ok.\n",
      "Normalization...\n",
      "Output cleaning is complete.\n",
      "Write result...\n",
      "Write output: /root/fractions.nc.gz\n",
      "State saved.\n",
      "---\n",
      "Analyze results...\n",
      "Check...\n",
      "Check liquidity...\n",
      "Ok.\n",
      "Check missed dates...\n",
      "Ok.\n",
      "Check the sharpe ratio...\n",
      "Period: 2006-01-01 - 2024-07-02\n",
      "Sharpe Ratio = 0.7418361996096839\n",
      "Ok.\n",
      "---\n",
      "Align...\n",
      "Calc global stats...\n",
      "---\n",
      "Calc stats per asset...\n",
      "Build plots...\n",
      "---\n",
      "Select the asset (or leave blank to display the overall stats):\n"
     ]
    },
    {
     "data": {
      "application/vnd.jupyter.widget-view+json": {
       "model_id": "856181a9a38c48ac945dd9a58ae568c1",
       "version_major": 2,
       "version_minor": 0
      },
      "text/plain": [
       "interactive(children=(Combobox(value='', description='asset', options=('', 'NAS:AAL', 'NAS:AAPL', 'NAS:ABNB', …"
      ]
     },
     "metadata": {},
     "output_type": "display_data"
    }
   ],
   "source": [
    "def strategy(data, state):\n",
    "    \n",
    "    #Tehnical indicators\n",
    "    close = data.sel(field=\"close\")\n",
    "    open_ = data.sel(field=\"open\")\n",
    "    high=data.sel(field='high')\n",
    "    low=data.sel(field='low')\n",
    "    atr14 = qnta.atr(data.sel(field='high'), data.sel(field='low'), data.sel(field='close'), 14)\n",
    "    last_atr = atr14.isel(time=-1)\n",
    "    ema87=qnta.ema(close,87)\n",
    "    ema51=qnta.ema(close,51)\n",
    "    ema27=qnta.ema(close,27)\n",
    "    tr = qnta.tr(high, low, close)\n",
    "    vol_osc= qnta.sma(tr/close, 14)\n",
    "    rsi_14 = qnta.rsi(close, 14)\n",
    "    atr_perc = xr.where(atr14/close > 0.01, atr14/close, 0.01)\n",
    "    ema7=qnta.ema(close,7)\n",
    "    ema82=qnta.ema(close,82)\n",
    "    ema3=qnta.ema(close,3)\n",
    "    \n",
    "    \n",
    "    \n",
    "    \n",
    "    if state is None:\n",
    "        state = {\n",
    "            \"weights\": xr.zeros_like(close),\n",
    "            \"open_price\": xr.full_like(data.isel(time=-1).asset, np.nan, dtype=int),\n",
    "            \"holding_time\": xr.zeros_like(data.isel(time=-1).asset, dtype=int),\n",
    "            }\n",
    "        qnstate.write(state)\n",
    "    weights_prev = state['weights']\n",
    "    #To reuse the template, define your trading signals here ---------------------\n",
    "    long_signal=xr.where(ema51>ema87+1.5*atr14,1,0)\n",
    "    long_signal_2=xr.where(vol_osc<0.9*qnta.sma(vol_osc,28),1,0)\n",
    "    exit1=xr.where(close<ema27 ,0,1)\n",
    "    short_signal=xr.where((ema7<ema82-1.5*atr14) & (close<ema3)&(rsi_14>60)  ,-1,0)\n",
    "    entry_signal=short_signal+long_signal*long_signal_2*exit1\n",
    "    entry_signal = entry_signal/atr_perc\n",
    "\n",
    "    # ----------------------------------------------------------------------------\n",
    "    \n",
    "    #Keeping track of the previous position\n",
    "    weights_prev, entry_signal = xr.align(weights_prev, entry_signal, join='right')\n",
    "    weights=xr.where(entry_signal==0,weights_prev.shift(time=1),entry_signal)\n",
    "    weights=weights.fillna(0)\n",
    "    \n",
    "    #Define additional exit parameters here----------------------------------\n",
    "    open_price = qnte.update_open_price(data, weights, state)\n",
    "    signal_tp = qnte.take_profit_long_atr(data, weights, open_price, last_atr, atr_amount = 6.35) \n",
    "    signal_sl = qnte.stop_loss_long_atr(data, weights, open_price, last_atr, atr_amount = 2.9) \n",
    "    signal_dc = qnte.max_hold_long(weights, state, max_period = 151)\n",
    "    signal_dc_short = qnte.max_hold_short(weights, state, max_period = 9)\n",
    "    signal_tp_short = qnte.take_profit_short_atr(data, weights, open_price, last_atr, atr_amount = 0.72)\n",
    "    signal_sl_short = qnte.stop_loss_short_atr(data, weights, open_price, last_atr, atr_amount = 0.47)\n",
    "    weights = weights * signal_tp * signal_sl * signal_dc* signal_tp_short * signal_sl_short * signal_dc_short\n",
    "    #cutting weigths to max absolute value 0.1\n",
    "    weights=xr.where(abs(weights) > 0.1, np.sign(weights)*0.1, weights)\n",
    "    #------------------------------------------------------------------------\n",
    "    \n",
    "    state['weights'] = weights\n",
    "    return weights, state\n",
    "\n",
    "weights, state = qnbt.backtest(\n",
    "    competition_type=\"stocks_nasdaq100\", \n",
    "    lookback_period=365,  # lookback in calendar days\n",
    "    start_date=\"2006-01-01\",\n",
    "    strategy=strategy,\n",
    "    analyze=True,\n",
    "    build_plots=True,\n",
    "    collect_all_states=False # if it is False, then the function returns the last state, otherwise - all states\n",
    ")"
   ]
  },
  {
   "cell_type": "code",
   "execution_count": null,
   "metadata": {},
   "outputs": [],
   "source": []
  }
 ],
 "metadata": {
  "kernelspec": {
   "display_name": "Python 3 (ipykernel)",
   "language": "python",
   "name": "python3"
  },
  "language_info": {
   "codemirror_mode": {
    "name": "ipython",
    "version": 3
   },
   "file_extension": ".py",
   "mimetype": "text/x-python",
   "name": "python",
   "nbconvert_exporter": "python",
   "pygments_lexer": "ipython3",
   "version": "3.10.14"
  }
 },
 "nbformat": 4,
 "nbformat_minor": 4
}
